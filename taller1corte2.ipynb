{
  "nbformat": 4,
  "nbformat_minor": 0,
  "metadata": {
    "colab": {
      "provenance": [],
      "authorship_tag": "ABX9TyP15YXTJe/8lfSsRCM1h2he",
      "include_colab_link": true
    },
    "kernelspec": {
      "name": "python3",
      "display_name": "Python 3"
    },
    "language_info": {
      "name": "python"
    }
  },
  "cells": [
    {
      "cell_type": "markdown",
      "metadata": {
        "id": "view-in-github",
        "colab_type": "text"
      },
      "source": [
        "<a href=\"https://colab.research.google.com/github/MariaDaniela15/googlecolab/blob/main/taller1corte2.ipynb\" target=\"_parent\"><img src=\"https://colab.research.google.com/assets/colab-badge.svg\" alt=\"Open In Colab\"/></a>"
      ]
    },
    {
      "cell_type": "code",
      "execution_count": null,
      "metadata": {
        "id": "p2eJrVpNtG-e"
      },
      "outputs": [],
      "source": []
    },
    {
      "cell_type": "markdown",
      "source": [
        "#TALLER"
      ],
      "metadata": {
        "id": "eEiPFjBTtY3H"
      }
    },
    {
      "cell_type": "markdown",
      "source": [
        "#1. Introducción\n",
        "##Propósito del Manual\n",
        "Este manual tiene como objetivo proporcionar una guía clara y práctica sobre la gestión de fechas y tiempos en ciencia de datos, utilizando ejemplos en Python. Se abordan conceptos clave, funciones comunes y buenas prácticas para trabajar con información temporal de manera eficiente y precisa.\n",
        "\n",
        "#Importancia de la Gestión de Fechas y Tiempos en Ciencia de Datos\n",
        "El manejo adecuado de fechas y tiempos es fundamental en proyectos de ciencia de datos, ya que muchas fuentes de información incluyen componentes temporales. Ya sea para analizar series de tiempo, agrupar datos por períodos, calcular duraciones o detectar tendencias, comprender cómo manipular y transformar datos temporales permite obtener insights más precisos y relevantes. Una gestión inadecuada puede conducir a errores en el análisis, interpretaciones incorrectas y decisiones erróneas.\n",
        "#2.Funciones de tiempo\n",
        "#¿Qué son las funciones de tiempo?\n",
        "Las funciones de tiempo son herramientas integradas en los lenguajes de programación, como Python, que permiten trabajar con datos relacionados con fechas y horas. Estas funciones facilitan tareas como la conversión de cadenas de texto a objetos de fecha, la extracción de componentes temporales (año, mes, día, hora), el cálculo de diferencias entre fechas, la creación de rangos temporales, entre otras operaciones.\n",
        "\n",
        "#Utilidad en la manipulación de datos temporales\n",
        "En ciencia de datos, las funciones de tiempo son esenciales para:\n",
        "\n",
        "* Limpiar y transformar datos temporales, por ejemplo, convertir fechas en distintos formatos a un formato estándar.\n",
        "\n",
        "* Extraer información específica como el día de la semana, el trimestre o la semana del año, lo cual es útil para análisis estacional o segmentación.\n",
        "\n",
        "* Realizar cálculos temporales, como medir el tiempo transcurrido entre dos eventos o calcular edades.\n",
        "\n",
        "* Agrupar o resumir datos por intervalos de tiempo (diario, semanal, mensual), una práctica común en análisis de series temporales.\n",
        "\n",
        "* Filtrar datos según rangos de fechas, lo cual permite trabajar con períodos específicos de interés.\n",
        "\n",
        "Estas funciones permiten automatizar y simplificar el tratamiento de datos cronológicos, facilitando análisis más robustos y eficientes.\n",
        "#Aplicabilidad: Contextos Comunes\n",
        "La gestión de fechas y tiempos es esencial en muchos campos de la ciencia de datos. Algunos ejemplos incluyen:\n",
        "\n",
        "* Series temporales: análisis de tendencias y estacionalidad en datos cronológicos.\n",
        "\n",
        "* Análisis financiero: cálculo de retornos, vencimientos y evolución de precios.\n",
        "\n",
        "* Sensores e IoT: monitoreo continuo y detección de eventos en tiempo real.\n",
        "\n",
        "* Logística: planificación de rutas y tiempos de entrega.\n",
        "\n",
        "* Salud: seguimiento de pacientes y evolución de enfermedades.\n",
        "\n",
        "* Marketing: análisis de comportamiento según el tiempo (temporadas, campañas).\n",
        "\n",
        "Estas aplicaciones demuestran cómo el componente temporal es clave para entender, analizar y predecir fenómenos en distintos contextos.\n",
        "\n"
      ],
      "metadata": {
        "id": "tiMGPyEAw0Yo"
      }
    },
    {
      "cell_type": "code",
      "source": [
        "import pandas as pd\n",
        "# Crear un rango de fechas\n",
        "fechas = pd.date_range(start='2022-01-01', periods=12, freq='D')\n",
        "print(fechas)\n",
        "# Extraer elementos\n",
        "df = pd.DataFrame({'fechas': fechas})\n",
        "df['año'] = df['fechas'].dt.year\n",
        "df['mes'] = df['fechas'].dt.month\n",
        "df['día'] = df['fechas'].dt.day\n",
        "df['día_semana'] = df['fechas'].dt.day_name()"
      ],
      "metadata": {
        "colab": {
          "base_uri": "https://localhost:8080/"
        },
        "id": "efl3JpFK0RpP",
        "outputId": "35196072-4ba3-4a76-801f-39417dc132ca"
      },
      "execution_count": null,
      "outputs": [
        {
          "output_type": "stream",
          "name": "stdout",
          "text": [
            "DatetimeIndex(['2022-01-01', '2022-01-02', '2022-01-03', '2022-01-04',\n",
            "               '2022-01-05', '2022-01-06', '2022-01-07', '2022-01-08',\n",
            "               '2022-01-09', '2022-01-10', '2022-01-11', '2022-01-12'],\n",
            "              dtype='datetime64[ns]', freq='D')\n"
          ]
        }
      ]
    },
    {
      "cell_type": "markdown",
      "source": [
        "#Calculo de días transcurridos"
      ],
      "metadata": {
        "id": "zLhqZDdZ4izx"
      }
    },
    {
      "cell_type": "code",
      "source": [
        "import pandas as pd\n",
        "from datetime import datetime\n",
        "\n",
        "# Creamos un DataFrame con fechas semanales desde enero 2024\n",
        "data = {\n",
        "    'fecha': pd.date_range(start='2024-01-25', periods=10, freq='7D'),\n",
        "    'evento': [f'Evento {i}' for i in range(1, 11)]\n",
        "}\n",
        "\n",
        "df = pd.DataFrame(data)\n",
        "print(df)\n"
      ],
      "metadata": {
        "colab": {
          "base_uri": "https://localhost:8080/"
        },
        "id": "OuVDqZDj9sIJ",
        "outputId": "90f0fddd-c295-4d68-df98-daa487b5dd5a"
      },
      "execution_count": 6,
      "outputs": [
        {
          "output_type": "stream",
          "name": "stdout",
          "text": [
            "       fecha     evento\n",
            "0 2024-01-25   Evento 1\n",
            "1 2024-02-01   Evento 2\n",
            "2 2024-02-08   Evento 3\n",
            "3 2024-02-15   Evento 4\n",
            "4 2024-02-22   Evento 5\n",
            "5 2024-02-29   Evento 6\n",
            "6 2024-03-07   Evento 7\n",
            "7 2024-03-14   Evento 8\n",
            "8 2024-03-21   Evento 9\n",
            "9 2024-03-28  Evento 10\n"
          ]
        }
      ]
    },
    {
      "cell_type": "code",
      "source": [
        "# Fecha de referencia\n",
        "fecha_referencia = datetime(2025, 4, 1)\n",
        "\n",
        "# Calcular los días pasados desde esa fecha\n",
        "df['dias_pasados'] = (fecha_referencia - df['fecha']).dt.days\n",
        "\n",
        "print(df[['fecha', 'evento', 'dias_pasados']])\n"
      ],
      "metadata": {
        "colab": {
          "base_uri": "https://localhost:8080/"
        },
        "id": "KXVeYiVm-Rxh",
        "outputId": "2b6b4d60-4335-41e1-8b50-aec75763bed9"
      },
      "execution_count": 7,
      "outputs": [
        {
          "output_type": "stream",
          "name": "stdout",
          "text": [
            "       fecha     evento  dias_pasados\n",
            "0 2024-01-25   Evento 1           432\n",
            "1 2024-02-01   Evento 2           425\n",
            "2 2024-02-08   Evento 3           418\n",
            "3 2024-02-15   Evento 4           411\n",
            "4 2024-02-22   Evento 5           404\n",
            "5 2024-02-29   Evento 6           397\n",
            "6 2024-03-07   Evento 7           390\n",
            "7 2024-03-14   Evento 8           383\n",
            "8 2024-03-21   Evento 9           376\n",
            "9 2024-03-28  Evento 10           369\n"
          ]
        }
      ]
    },
    {
      "cell_type": "code",
      "source": [
        "# Definir el rango\n",
        "inicio = datetime(2024, 3, 1)\n",
        "fin = datetime(2025, 1, 1)\n",
        "\n",
        "# Filtrar por fechas\n",
        "filtro = df[(df['fecha'] >= inicio) & (df['fecha'] <= fin)]\n",
        "\n",
        "print(filtro)\n"
      ],
      "metadata": {
        "colab": {
          "base_uri": "https://localhost:8080/"
        },
        "id": "Ik91EbKy-d8_",
        "outputId": "3b18f57a-f992-4e32-ba94-b0f6fd14c02c"
      },
      "execution_count": 10,
      "outputs": [
        {
          "output_type": "stream",
          "name": "stdout",
          "text": [
            "       fecha     evento  dias_pasados\n",
            "6 2024-03-07   Evento 7           390\n",
            "7 2024-03-14   Evento 8           383\n",
            "8 2024-03-21   Evento 9           376\n",
            "9 2024-03-28  Evento 10           369\n"
          ]
        }
      ]
    },
    {
      "cell_type": "markdown",
      "source": [
        "3. JERARQUÍA DE FECHAS"
      ],
      "metadata": {
        "id": "6I465s7--4pI"
      }
    },
    {
      "cell_type": "markdown",
      "source": [
        "Organizar y agrupar datos por componentes temporales como año, trimestre, mes, semana, día, etc., permite hacer análisis más claros y comparables. Esto es especialmente útil cuando se trabaja con series de tiempo o datos cronológicos."
      ],
      "metadata": {
        "id": "prErTgZ1_d8L"
      }
    },
    {
      "cell_type": "markdown",
      "source": [
        "#Aplicabilidad\n",
        "Ideal para:\n",
        "\n",
        "* Dashboards e informes ejecutivos\n",
        "\n",
        "* Análisis de tendencias y estacionalidades\n",
        "\n",
        "* Pronósticos y modelos de series temporales\n",
        "\n",
        "* Comparaciones intermensuales o interanuales"
      ],
      "metadata": {
        "id": "zWzIbXHX_mmZ"
      }
    },
    {
      "cell_type": "markdown",
      "source": [
        "CASOS PRACTICOS"
      ],
      "metadata": {
        "id": "anuLTTTo_5yx"
      }
    },
    {
      "cell_type": "markdown",
      "source": [
        "Supongamos un DataFrame con ventas diarias:"
      ],
      "metadata": {
        "id": "gCbKSRjm__QA"
      }
    },
    {
      "cell_type": "code",
      "source": [
        "import pandas as pd\n",
        "import numpy as np\n",
        "\n",
        "# Crear datos de ejemplo\n",
        "df = pd.DataFrame({\n",
        "    'fecha': pd.date_range(start='2024-01-01', periods=90, freq='D'),\n",
        "    'ventas': np.random.randint(100, 1000, size=90)\n",
        "})\n"
      ],
      "metadata": {
        "id": "5uhozWXFACfB"
      },
      "execution_count": 12,
      "outputs": []
    },
    {
      "cell_type": "markdown",
      "source": [
        "Agrupación por mes:"
      ],
      "metadata": {
        "id": "_v5_o6aNAM9A"
      }
    },
    {
      "cell_type": "code",
      "source": [
        "# Extraer el periodo mensual\n",
        "df['mes'] = df['fecha'].dt.to_period('M')\n",
        "\n",
        "# Agrupar por mes y sumar ventas\n",
        "ventas_mensuales = df.groupby('mes')['ventas'].sum()\n",
        "ventas_mensuales\n"
      ],
      "metadata": {
        "colab": {
          "base_uri": "https://localhost:8080/",
          "height": 209
        },
        "id": "ThNOjdUiAR-8",
        "outputId": "8f40e60d-4f5e-4896-9573-67c15e614cca"
      },
      "execution_count": 13,
      "outputs": [
        {
          "output_type": "execute_result",
          "data": {
            "text/plain": [
              "mes\n",
              "2024-01    17117\n",
              "2024-02    14021\n",
              "2024-03    15866\n",
              "Freq: M, Name: ventas, dtype: int64"
            ],
            "text/html": [
              "<div>\n",
              "<style scoped>\n",
              "    .dataframe tbody tr th:only-of-type {\n",
              "        vertical-align: middle;\n",
              "    }\n",
              "\n",
              "    .dataframe tbody tr th {\n",
              "        vertical-align: top;\n",
              "    }\n",
              "\n",
              "    .dataframe thead th {\n",
              "        text-align: right;\n",
              "    }\n",
              "</style>\n",
              "<table border=\"1\" class=\"dataframe\">\n",
              "  <thead>\n",
              "    <tr style=\"text-align: right;\">\n",
              "      <th></th>\n",
              "      <th>ventas</th>\n",
              "    </tr>\n",
              "    <tr>\n",
              "      <th>mes</th>\n",
              "      <th></th>\n",
              "    </tr>\n",
              "  </thead>\n",
              "  <tbody>\n",
              "    <tr>\n",
              "      <th>2024-01</th>\n",
              "      <td>17117</td>\n",
              "    </tr>\n",
              "    <tr>\n",
              "      <th>2024-02</th>\n",
              "      <td>14021</td>\n",
              "    </tr>\n",
              "    <tr>\n",
              "      <th>2024-03</th>\n",
              "      <td>15866</td>\n",
              "    </tr>\n",
              "  </tbody>\n",
              "</table>\n",
              "</div><br><label><b>dtype:</b> int64</label>"
            ]
          },
          "metadata": {},
          "execution_count": 13
        }
      ]
    },
    {
      "cell_type": "markdown",
      "source": [
        "ACTIVIDAD"
      ],
      "metadata": {
        "id": "JYaczOmIBFnC"
      }
    },
    {
      "cell_type": "markdown",
      "source": [
        "Crear un dataframe de ejemplo"
      ],
      "metadata": {
        "id": "WGu5mUAcBOUc"
      }
    },
    {
      "cell_type": "code",
      "source": [
        "import pandas as pd\n",
        "import numpy as np\n",
        "import matplotlib.pyplot as plt\n",
        "\n",
        "# Dataset con ventas diarias\n",
        "df = pd.DataFrame({\n",
        "    'fecha': pd.date_range(start='2022-01-01', periods=180, freq='D'),\n",
        "    'ventas': np.random.randint(100, 1000, size=180)\n",
        "})\n"
      ],
      "metadata": {
        "id": "rS5gpfJ3BZSk"
      },
      "execution_count": 14,
      "outputs": []
    },
    {
      "cell_type": "markdown",
      "source": [
        "Agrupar por trimestre y calcular estadísticas descriptivas"
      ],
      "metadata": {
        "id": "w1I_MDOjBhWy"
      }
    },
    {
      "cell_type": "code",
      "source": [
        "# Extraer el trimestre\n",
        "df['trimestre'] = df['fecha'].dt.to_period('Q')\n",
        "\n",
        "# Agrupar y describir\n",
        "estadisticas_trimestrales = df.groupby('trimestre')['ventas'].describe()\n",
        "print(estadisticas_trimestrales)\n"
      ],
      "metadata": {
        "colab": {
          "base_uri": "https://localhost:8080/"
        },
        "id": "sSSu8DBGBrjU",
        "outputId": "e18caab2-d212-4d0e-8a31-a84637966be9"
      },
      "execution_count": 15,
      "outputs": [
        {
          "output_type": "stream",
          "name": "stdout",
          "text": [
            "           count        mean         std    min    25%    50%     75%    max\n",
            "trimestre                                                                   \n",
            "2022Q1      90.0  575.855556  271.774839  106.0  348.5  566.5  821.50  998.0\n",
            "2022Q2      90.0  527.966667  250.227512  102.0  361.5  510.0  744.75  980.0\n"
          ]
        }
      ]
    },
    {
      "cell_type": "markdown",
      "source": [
        "Visualizar ventas promedio por mes"
      ],
      "metadata": {
        "id": "ABf_VRPGB1b6"
      }
    },
    {
      "cell_type": "code",
      "source": [
        "# Extraer el mes\n",
        "df['mes'] = df['fecha'].dt.to_period('M')\n",
        "\n",
        "# Agrupar por mes y calcular el promedio\n",
        "promedio_mensual = df.groupby('mes')['ventas'].mean()\n",
        "\n",
        "# Visualización\n",
        "promedio_mensual.plot(kind='bar', figsize=(10, 5), color='skyblue', edgecolor='pink')\n",
        "plt.title('Ventas Promedio por Mes')\n",
        "plt.ylabel('Promedio de Ventas')\n",
        "plt.xlabel('Mes')\n",
        "plt.xticks(rotation=45)\n",
        "plt.tight_layout()\n",
        "plt.show()\n"
      ],
      "metadata": {
        "colab": {
          "base_uri": "https://localhost:8080/",
          "height": 507
        },
        "id": "zkS3KQJWCOZb",
        "outputId": "9d343535-58e1-48fb-c8dd-d4eb141d95a3"
      },
      "execution_count": 17,
      "outputs": [
        {
          "output_type": "display_data",
          "data": {
            "text/plain": [
              "<Figure size 1000x500 with 1 Axes>"
            ],
            "image/png": "[encoded data removed]"
          },
          "metadata": {}
        }
      ]
    },
    {
      "cell_type": "markdown",
      "source": [
        "CONCLUSIONES"
      ],
      "metadata": {
        "id": "U-Uvlz0SC4wc"
      }
    },
    {
      "cell_type": "markdown",
      "source": [
        "# ¿Qué aprendí?\n",
        "Aprendí a agrupar datos por trimestre y mes usando pandas, y a calcular estadísticas como promedios. También practiqué cómo hacer gráficos para ver las ventas a lo largo del tiempo.\n",
        "\n",
        "# ¿Para qué sirve?\n",
        "Esto se puede usar para reportes de ventas, análisis trimestrales, o detectar patrones en distintos meses. Es útil en negocios, salud, educación, etc.\n",
        "\n",
        "# ¿Qué dificultades tuve?\n",
        "Al principio no sabía cómo agrupar bien por fechas, pero encontré que usar .dt.to_period('Q') o 'M' lo soluciona. También tuve que ajustar el gráfico para que se vea claro, rotando las etiquetas del eje X.\n",
        "\n"
      ],
      "metadata": {
        "id": "0LMCiNF7C7uM"
      }
    }
  ]
}